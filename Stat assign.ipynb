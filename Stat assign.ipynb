{
 "cells": [
  {
   "cell_type": "code",
   "execution_count": null,
   "id": "07f41626-a6ea-435b-b8b6-aec28d7ffad7",
   "metadata": {},
   "outputs": [],
   "source": [
    "# Q1. What is Statistics?"
   ]
  },
  {
   "cell_type": "code",
   "execution_count": null,
   "id": "168d6fa2-111d-41f4-b4b8-7a50f9a42581",
   "metadata": {},
   "outputs": [],
   "source": [
    "# Statistics is the science of collecting orgnizing & analyzing Data"
   ]
  },
  {
   "cell_type": "code",
   "execution_count": null,
   "id": "1ace9b13-4bb6-4933-9843-ca40f266b6e7",
   "metadata": {},
   "outputs": [],
   "source": [
    "# Q2. Define the different types of statistics and give an example of when each type might be used."
   ]
  },
  {
   "cell_type": "code",
   "execution_count": null,
   "id": "f0376083-7c9a-4559-811d-d251b6a2b5e0",
   "metadata": {},
   "outputs": [],
   "source": [
    "# Diffrent types of Statistics are Descriptive and inferential\n",
    "#for eg lets consider a statemnt that in class there are students with heights mesuring in cm 170,165,175,185\n",
    "\n",
    "#Descriptive statistics question what is the average height of the students\n",
    "#inferential question will be is the height of student similar to the height of the students of the college"
   ]
  },
  {
   "cell_type": "code",
   "execution_count": null,
   "id": "e08244d6-760c-4d2a-aba8-0fc91987c521",
   "metadata": {},
   "outputs": [],
   "source": [
    "# Q3. What are the different types of data and how do they differ from each other? Provide an example of each type of data."
   ]
  },
  {
   "cell_type": "code",
   "execution_count": null,
   "id": "a1052223-2899-4f2b-992b-c5459a2991c6",
   "metadata": {},
   "outputs": [],
   "source": [
    "# diffrent type of Data are quantative and qualitative. Quantative data are numerical data and qualitative data is categorical data"
   ]
  },
  {
   "cell_type": "code",
   "execution_count": null,
   "id": "d8f86148-4d6a-4499-87a3-bc8e843747d6",
   "metadata": {},
   "outputs": [],
   "source": [
    "# Q4. Categorise the following datasets with respect to quantitative and qualitative data types:\n",
    "#(i) Grading in exam: A+, A, B+, B, C+, C, D, E\n",
    "#(ii) Colour of mangoes: yellow, green, orange, red\n",
    "#(iii) Height data of a class: [178.9, 179, 179.5, 176, 177.2, 178.3, 175.8,...]\n",
    "#(iv) Number of mangoes exported by a farm: [500, 600, 478, 672, ...]"
   ]
  },
  {
   "cell_type": "code",
   "execution_count": null,
   "id": "5e635cd5-64b5-4f8c-b095-f2ccb714b14f",
   "metadata": {},
   "outputs": [],
   "source": [
    "# Ans 4. \n",
    "#(i) Grading in exam: A+, A, B+, B, C+, C, D, E -  qualitative\n",
    "#(ii) Colour of mangoes: yellow, green, orange, red - qualitative\n",
    "#(iii) Height data of a class: [178.9, 179, 179.5, 176, 177.2, 178.3, 175.8,...] - quantative\n",
    "#(iv) Number of mangoes exported by a farm: [500, 600, 478, 672, ...] - quantative"
   ]
  },
  {
   "cell_type": "code",
   "execution_count": null,
   "id": "c620b18e-1332-402b-b96b-cc3e69603fab",
   "metadata": {},
   "outputs": [],
   "source": [
    "# Q5. Explain the concept of levels of measurement and give an example of a variable for each level."
   ]
  },
  {
   "cell_type": "code",
   "execution_count": null,
   "id": "b250b18a-126a-45ea-abb5-3df58e076230",
   "metadata": {},
   "outputs": [],
   "source": [
    "#There are various concept of mesurement they are\n",
    "#Nominal eg - gender clour level the order does not matter\n",
    "#Ordinal eg - Best, excellent, good, here ranking is important\n",
    "#Interval eg - Temp variable - the diifrence can be mesaured , the orders matter, ratio cannot be mesaured\n",
    "#Ratio eg - Students marks in the class herein the order matters the diffrence can be mesured and the ration can also be mesured."
   ]
  },
  {
   "cell_type": "code",
   "execution_count": null,
   "id": "424f84a1-b83b-42d8-8361-bb55448be568",
   "metadata": {},
   "outputs": [],
   "source": [
    "#Q6. Why is it important to understand the level of measurement when analyzing data? Provide an example to illustrate your answer."
   ]
  },
  {
   "cell_type": "code",
   "execution_count": null,
   "id": "fd90da06-5a83-4605-a846-f763d6922daf",
   "metadata": {},
   "outputs": [],
   "source": [
    "# Understanding the level of measurement is crucial when analyzing data because it determines the appropriate statistical techniques that can be applied and the\n",
    "# meaningfulness of the results obtained. Different levels of measurement have different properties and allow for different types of analysis.\n",
    "#for Eg let's consider a survey that asks respondents to rate their satisfaction with a product on a scale of 1 to 5, where 1 represents\n",
    "#\"very dissatisfied\" and 5 represents \"very satisfied.\" In this case, the data obtained from the survey represents ordinal level measurement.\n",
    "#The values have a natural order, but the differences between them may not be equal."
   ]
  },
  {
   "cell_type": "code",
   "execution_count": null,
   "id": "175fed3c-448d-4728-b36e-48509822209f",
   "metadata": {},
   "outputs": [],
   "source": [
    "# Q7. How nominal data type is different from ordinal data type."
   ]
  },
  {
   "cell_type": "code",
   "execution_count": null,
   "id": "844781d9-5a48-4596-bbbe-82bbc3104482",
   "metadata": {},
   "outputs": [],
   "source": [
    "# In nominal data teh order does not matter however in Ordinal data the order matters"
   ]
  },
  {
   "cell_type": "code",
   "execution_count": null,
   "id": "eac87b6e-1b25-4493-b43b-bd02eb4adc17",
   "metadata": {},
   "outputs": [],
   "source": [
    "# Q8. Which type of plot can be used to display data in terms of range?"
   ]
  },
  {
   "cell_type": "code",
   "execution_count": null,
   "id": "3379c889-5aca-4ee3-a89c-19c78b607aa0",
   "metadata": {},
   "outputs": [],
   "source": [
    "# Ans interval and ratio levels can be used to display data in terms of range. "
   ]
  },
  {
   "cell_type": "code",
   "execution_count": null,
   "id": "cb9094b0-6fbc-4df6-ae3d-a1237844b712",
   "metadata": {},
   "outputs": [],
   "source": [
    "# Q9. Describe the difference between descriptive and inferential statistics. Give an example of each type of statistics and explain how they are used."
   ]
  },
  {
   "cell_type": "code",
   "execution_count": null,
   "id": "c9170a29-a88f-4e3a-9341-e28830379a85",
   "metadata": {},
   "outputs": [],
   "source": [
    "#Descriptive consists of orgnizing and summerizing data, whereas inferential consists of using data we have mesured to form calculation\n",
    "#for eg lets consider a statemnt that in class there are students with heights mesuring in cm 170,165,175,185\n",
    "\n",
    "#Descriptive statistics question what is the average height of the students\n",
    "#inferential question will be is the height of student similar to the height of the students of the college\n"
   ]
  },
  {
   "cell_type": "code",
   "execution_count": null,
   "id": "2ff52f91-0fa8-464e-8bae-e977bdd77466",
   "metadata": {},
   "outputs": [],
   "source": [
    "# Q10. What are some common measures of central tendency and variability used in statistics? Explain\n",
    "# how each measure can be used to describe a dataset."
   ]
  },
  {
   "cell_type": "code",
   "execution_count": null,
   "id": "f7a0307a-83be-4d24-8978-dc5a2cf6501e",
   "metadata": {},
   "outputs": [],
   "source": [
    "\"Common Measure of central tendancey in\n",
    "Mean - It mesaures the average\n",
    "Median - The median is the middle value in a dataset when it is arranged in ascending or descending order. If the dataset has an odd number of values, the median is the middle value.\n",
    "If the dataset has an even number of values, the median is the average of the two middle value.\n",
    "Mode  is the value that appears most frequently in a dataset \n",
    "Common mesures of variability is statistics are \n",
    "Range - The range is the difference between the maximum and minimum values in a dataset\n",
    "Variance -Variance is the average of the squared differences between each data point and the mean of the dataset. It measures the average deviation of each data point from the mean.\n",
    "Standard deviation is the square root of the variance.\""
   ]
  }
 ],
 "metadata": {
  "kernelspec": {
   "display_name": "Python 3 (ipykernel)",
   "language": "python",
   "name": "python3"
  },
  "language_info": {
   "codemirror_mode": {
    "name": "ipython",
    "version": 3
   },
   "file_extension": ".py",
   "mimetype": "text/x-python",
   "name": "python",
   "nbconvert_exporter": "python",
   "pygments_lexer": "ipython3",
   "version": "3.10.8"
  }
 },
 "nbformat": 4,
 "nbformat_minor": 5
}
